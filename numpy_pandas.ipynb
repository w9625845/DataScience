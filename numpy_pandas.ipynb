{
 "cells": [
  {
   "cell_type": "code",
   "execution_count": 1,
   "metadata": {},
   "outputs": [],
   "source": [
    "import numpy as np\n",
    "import pandas as pd"
   ]
  },
  {
   "cell_type": "code",
   "execution_count": 5,
   "metadata": {},
   "outputs": [
    {
     "name": "stdout",
     "output_type": "stream",
     "text": [
      "[0 1 2 3 4 5 6 7 8 9]\n",
      "(10,)\n",
      "<class 'numpy.ndarray'>\n"
     ]
    }
   ],
   "source": [
    "#1. Array Creation:\n",
    "#Question: Create a NumPy array containing the numbers from 0 to 9. What is the shape and data type of this array?\n",
    "\n",
    "numbers = np.arange(10)\n",
    "print(numbers)\n",
    "print(numbers.shape)\n",
    "print(type(numbers))"
   ]
  },
  {
   "cell_type": "code",
   "execution_count": 5,
   "metadata": {},
   "outputs": [
    {
     "name": "stdout",
     "output_type": "stream",
     "text": [
      "[[1 7 0 7]\n",
      " [5 3 6 1]\n",
      " [1 9 6 4]]\n",
      "(3, 4)\n"
     ]
    }
   ],
   "source": [
    "#2. Array Shape:\n",
    "#Question: Create a 2D array with shape (3, 4) filled with random integers between 0 and 10. What is the shape of the resulting array?\n",
    "import numpy as np\n",
    "twodarray= np.random.randint(0,10,size=(3,4))\n",
    "print(twodarray)\n",
    "print(twodarray.shape)"
   ]
  },
  {
   "cell_type": "code",
   "execution_count": 7,
   "metadata": {},
   "outputs": [
    {
     "name": "stdout",
     "output_type": "stream",
     "text": [
      "[[1 2 3 4]\n",
      " [5 6 7 8]]\n"
     ]
    }
   ],
   "source": [
    "#3. Array Reshaping:\n",
    "#Question: Given the array arr = np.array([1, 2, 3, 4, 5, 6, 7, 8]), reshape it into a 2x4 matrix.\n",
    "\n",
    "arr = np.array([1,2,3,4,5,6,7,8])\n",
    "reshape_array = arr.reshape(2,4)\n",
    "print(reshape_array)"
   ]
  },
  {
   "cell_type": "code",
   "execution_count": 10,
   "metadata": {},
   "outputs": [
    {
     "name": "stdout",
     "output_type": "stream",
     "text": [
      "[[1 2 3]\n",
      " [4 5 6]\n",
      " [7 8 9]]\n",
      "6\n"
     ]
    }
   ],
   "source": [
    "#4. Array Indexing:\n",
    "#Question: From the following 2D array, extract the element in the 2nd row and 3rd column:\n",
    "\n",
    "\n",
    "arr = np.array([[1, 2, 3], [4, 5, 6], [7, 8, 9]])\n",
    "print(arr)\n",
    "print(arr[1,2])\n"
   ]
  },
  {
   "cell_type": "code",
   "execution_count": 12,
   "metadata": {},
   "outputs": [
    {
     "name": "stdout",
     "output_type": "stream",
     "text": [
      "[0 1 2 3 4 5 6 7 8 9]\n",
      "[2 3 4 5]\n"
     ]
    }
   ],
   "source": [
    "#5. Slicing:\n",
    "#Question: Given a 1D array arr = np.arange(10), extract the elements from index 2 to index 6 (not inclusive).\n",
    "\n",
    "arr = np.arange(10)\n",
    "print(arr)\n",
    "print(arr[2:6])"
   ]
  },
  {
   "cell_type": "code",
   "execution_count": 14,
   "metadata": {},
   "outputs": [
    {
     "name": "stdout",
     "output_type": "stream",
     "text": [
      "[5 7 9]\n",
      "[-3 -3 -3]\n",
      "[ 4 10 18]\n"
     ]
    }
   ],
   "source": [
    "#6. Element-wise Operations:\n",
    "#Question: Create two NumPy arrays, arr1 = np.array([1, 2, 3]) and arr2 = np.array([4, 5, 6]). Perform element-wise addition, subtraction, and multiplication.\n",
    "arr1 = np.array([1,2,3])\n",
    "arr2 = np.array([4,5,6])\n",
    "\n",
    "print(arr1 + arr2)\n",
    "print(arr1 - arr2)\n",
    "print(arr1 * arr2)"
   ]
  },
  {
   "cell_type": "code",
   "execution_count": 15,
   "metadata": {},
   "outputs": [
    {
     "name": "stdout",
     "output_type": "stream",
     "text": [
      "[11 12 13 14 15]\n"
     ]
    }
   ],
   "source": [
    "#Question: Add a scalar value of 10 to each element of the array arr = np.array([1, 2, 3, 4, 5]) using broadcasting.\n",
    "arr = np.array([1,2,3,4,5])\n",
    "print(arr + 10)"
   ]
  },
  {
   "cell_type": "code",
   "execution_count": 18,
   "metadata": {},
   "outputs": [
    {
     "name": "stdout",
     "output_type": "stream",
     "text": [
      "[42 26 14  1 24 42 44 20 15 22 32 12 20  7 18]\n",
      "22.6\n",
      "20.0\n",
      "12.387090053761618\n"
     ]
    }
   ],
   "source": [
    "#8. Basic Statistical Operations:\n",
    "#Question: Create a NumPy array of 15 random integers between 0 and 50. Find the mean, median, and standard deviation of the array.\n",
    "arr = np.random.randint(0,50,size=15)\n",
    "print(arr)\n",
    "print(np.mean(arr))\n",
    "print(np.median(arr))\n",
    "print(np.std(arr))"
   ]
  },
  {
   "cell_type": "code",
   "execution_count": 20,
   "metadata": {},
   "outputs": [
    {
     "name": "stdout",
     "output_type": "stream",
     "text": [
      "[30 40 50]\n"
     ]
    }
   ],
   "source": [
    "#9. Boolean Indexing:\n",
    "#Question: From the array arr = np.array([10, 20, 30, 40, 50]), extract all elements greater than 25.\n",
    "arr = np.array([10,20,30,40,50])\n",
    "extracted_array = arr[arr>25]\n",
    "print(extracted_array)"
   ]
  },
  {
   "cell_type": "code",
   "execution_count": 22,
   "metadata": {},
   "outputs": [
    {
     "name": "stdout",
     "output_type": "stream",
     "text": [
      "[1 2 3 4 5 6]\n"
     ]
    }
   ],
   "source": [
    "#10. Array Concatenation:\n",
    "#Question: Create two arrays arr1 = np.array([1, 2, 3]) and arr2 = np.array([4, 5, 6]). Concatenate them into a single array.\n",
    "arr1 = np.array([1,2,3])\n",
    "arr2 = np.array([4,5,6])\n",
    "print(np.concatenate((arr1,arr2)))"
   ]
  },
  {
   "cell_type": "markdown",
   "metadata": {},
   "source": [
    "# DataFrame Creation:\n"
   ]
  },
  {
   "cell_type": "code",
   "execution_count": 28,
   "metadata": {},
   "outputs": [
    {
     "name": "stdout",
     "output_type": "stream",
     "text": [
      "      name  Age         City\n",
      "0    Alice   25     New York\n",
      "1      Bob   30  Los Angeles\n",
      "2  Charlie   35      Chicago\n",
      "3    David   40      Houston\n"
     ]
    }
   ],
   "source": [
    "\"\"\"1. DataFrame Creation:\n",
    "#Question: Create a Pandas DataFrame from the following dictionary:\n",
    "\n",
    "data = {\"name\":['Alice','Bob','Charlie','David'],\n",
    "'Age':[25,30,35,40],'City':['New York','Los Angeles','Chicago','Houston']}\n",
    "\n",
    "Task 1: Display the DataFrame \n",
    "Task 2: Save it as “data.csv”\"\"\"\n",
    "\n",
    "import pandas as pd\n",
    "\n",
    "data = {\"name\":['Alice','Bob','Charlie','David'],\n",
    "'Age':[25,30,35,40],\n",
    "'City':['New York','Los Angeles','Chicago','Houston']}\n",
    "\n",
    "df = pd.DataFrame(data)\n",
    "print(df)\n",
    "df.to_csv('data.csv',index = False)"
   ]
  },
  {
   "cell_type": "code",
   "execution_count": 29,
   "metadata": {},
   "outputs": [
    {
     "name": "stdout",
     "output_type": "stream",
     "text": [
      "      name  Age         City\n",
      "0    Alice   25     New York\n",
      "1      Bob   30  Los Angeles\n",
      "2  Charlie   35      Chicago\n",
      "3    David   40      Houston\n"
     ]
    }
   ],
   "source": [
    "df = pd.read_csv(\"data.csv\")\n",
    "print(df.head())"
   ]
  },
  {
   "cell_type": "markdown",
   "metadata": {},
   "source": [
    "3. Selecting a Column:\n",
    "Question: From the loaded data, select and display the \"Name\" column."
   ]
  },
  {
   "cell_type": "code",
   "execution_count": 30,
   "metadata": {},
   "outputs": [
    {
     "name": "stdout",
     "output_type": "stream",
     "text": [
      "0      Alice\n",
      "1        Bob\n",
      "2    Charlie\n",
      "3      David\n",
      "Name: name, dtype: object\n"
     ]
    }
   ],
   "source": [
    "print(df['name'])"
   ]
  },
  {
   "cell_type": "code",
   "execution_count": 32,
   "metadata": {},
   "outputs": [
    {
     "name": "stdout",
     "output_type": "stream",
     "text": [
      "      name  Age     City\n",
      "2  Charlie   35  Chicago\n",
      "3    David   40  Houston\n"
     ]
    }
   ],
   "source": [
    "#4. Filtering Rows:\n",
    "#Question: From the above DataFrame, filter and display only the rows where the \"Age\" is greater than 30.\n",
    "greater_than_30 = df[df['Age']>30]\n",
    "print(greater_than_30)"
   ]
  },
  {
   "cell_type": "code",
   "execution_count": 33,
   "metadata": {},
   "outputs": [
    {
     "name": "stdout",
     "output_type": "stream",
     "text": [
      "      name  Age         City  Salary\n",
      "0    Alice   25     New York   50000\n",
      "1      Bob   30  Los Angeles   60000\n",
      "2  Charlie   35      Chicago   70000\n",
      "3    David   40      Houston   80000\n"
     ]
    }
   ],
   "source": [
    "#5. Adding a New Column:\n",
    "#Question: Add a new column named \"Salary\" to the DataFrame with the values [50000, 60000, 70000, 80000].\n",
    "salary = [50000,60000,70000,80000]\n",
    "df['Salary'] = salary\n",
    "print(df)"
   ]
  }
 ],
 "metadata": {
  "kernelspec": {
   "display_name": "base",
   "language": "python",
   "name": "python3"
  },
  "language_info": {
   "codemirror_mode": {
    "name": "ipython",
    "version": 3
   },
   "file_extension": ".py",
   "mimetype": "text/x-python",
   "name": "python",
   "nbconvert_exporter": "python",
   "pygments_lexer": "ipython3",
   "version": "3.12.6"
  }
 },
 "nbformat": 4,
 "nbformat_minor": 2
}
