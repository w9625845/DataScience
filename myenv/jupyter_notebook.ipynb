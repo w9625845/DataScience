{
 "cells": [
  {
   "cell_type": "code",
   "execution_count": 1,
   "metadata": {},
   "outputs": [
    {
     "name": "stdout",
     "output_type": "stream",
     "text": [
      "This is first nobebook\n",
      "created to install all the necessary extensions in vs code\n"
     ]
    }
   ],
   "source": [
    "#This file created to learn about using jupyter notebook in vs code\n",
    "print(\"This is first nobebook\")\n",
    "print(\"created to install all the necessary extensions in vs code\")"
   ]
  },
  {
   "cell_type": "code",
   "execution_count": 10,
   "metadata": {},
   "outputs": [
    {
     "name": "stdout",
     "output_type": "stream",
     "text": [
      "False\n",
      "False\n"
     ]
    }
   ],
   "source": [
    "#data types\n",
    "#Boolean\n",
    "name = 'krishna jakkula'\n",
    "print(name.istitle())\n",
    "print(name.isalnum())"
   ]
  },
  {
   "cell_type": "code",
   "execution_count": 22,
   "metadata": {},
   "outputs": [
    {
     "name": "stdout",
     "output_type": "stream",
     "text": [
      "10\n",
      "<class 'list'>\n",
      "['can', 'contain', 'diffrent', 'data', 'types', 'like', 1, -32, 3.14, True, False]\n",
      "diffrent\n",
      "['can', 'contain', 'diffrent', 'data', 'types', 'like', 1, -32, 3.14, True, False]\n",
      "['data', 'types', 'like']\n",
      "['list', 'can', 'contain', 'diffrent', 'data', 'types', 'like', 1, -32, 3.14, True, False]\n"
     ]
    }
   ],
   "source": [
    "#list\n",
    "lst1=['can','contain','diffrent','data','types','like',1,-32,3.14,True]\n",
    "print(len(lst1))\n",
    "print (type(lst1))\n",
    "lst1.append(False)\n",
    "print(lst1)\n",
    "print(lst1[2])\n",
    "print(lst1[:])\n",
    "print(lst1[3:6])\n",
    "lst1.insert(0,'list')\n",
    "print(lst1)\n"
   ]
  },
  {
   "cell_type": "code",
   "execution_count": 24,
   "metadata": {},
   "outputs": [
    {
     "name": "stdout",
     "output_type": "stream",
     "text": [
      "[1, 2, 3, 4, [5, 6]]\n",
      "[1, 2, 3, 4, 5, 6, 7]\n"
     ]
    }
   ],
   "source": [
    "lst2=[1,2,3,4]\n",
    "lst2.append([5,6])\n",
    "print(lst2)\n",
    "lst3 = [1,2,3,4]\n",
    "lst3.extend([5,6,7])\n",
    "print(lst3)"
   ]
  },
  {
   "cell_type": "code",
   "execution_count": 25,
   "metadata": {},
   "outputs": [
    {
     "name": "stdout",
     "output_type": "stream",
     "text": [
      "28\n"
     ]
    }
   ],
   "source": [
    "total=sum(lst3)\n",
    "print(total)"
   ]
  },
  {
   "cell_type": "code",
   "execution_count": 26,
   "metadata": {},
   "outputs": [
    {
     "name": "stdout",
     "output_type": "stream",
     "text": [
      "[1, 2, 3, 4, 5, 6]\n",
      "[1, 2, 3, 5, 6]\n"
     ]
    }
   ],
   "source": [
    "lst3.pop()\n",
    "print(lst3)\n",
    "lst3.pop(3)\n",
    "print(lst3)"
   ]
  },
  {
   "cell_type": "code",
   "execution_count": 29,
   "metadata": {},
   "outputs": [
    {
     "name": "stdout",
     "output_type": "stream",
     "text": [
      "6\n",
      "9\n"
     ]
    }
   ],
   "source": [
    "lst4=[1,1,2,2,2,3,3,3,3,4,4,4,4,4,4]\n",
    "no_of_occurence = lst4.count(4)\n",
    "print(no_of_occurence)\n",
    "print(lst4.index(4,0,14))"
   ]
  },
  {
   "cell_type": "code",
   "execution_count": 34,
   "metadata": {},
   "outputs": [
    {
     "name": "stdout",
     "output_type": "stream",
     "text": [
      "3\n",
      "456\n"
     ]
    }
   ],
   "source": [
    "lst5=[34,5,6,65,345,43,4,456,76,45,435,3]\n",
    "print(min(lst5))\n",
    "print(max(lst5))\n"
   ]
  },
  {
   "cell_type": "code",
   "execution_count": 36,
   "metadata": {},
   "outputs": [
    {
     "data": {
      "text/plain": [
       "[34,\n",
       " 5,\n",
       " 6,\n",
       " 65,\n",
       " 345,\n",
       " 43,\n",
       " 4,\n",
       " 456,\n",
       " 76,\n",
       " 45,\n",
       " 435,\n",
       " 3,\n",
       " 34,\n",
       " 5,\n",
       " 6,\n",
       " 65,\n",
       " 345,\n",
       " 43,\n",
       " 4,\n",
       " 456,\n",
       " 76,\n",
       " 45,\n",
       " 435,\n",
       " 3,\n",
       " 34,\n",
       " 5,\n",
       " 6,\n",
       " 65,\n",
       " 345,\n",
       " 43,\n",
       " 4,\n",
       " 456,\n",
       " 76,\n",
       " 45,\n",
       " 435,\n",
       " 3,\n",
       " 34,\n",
       " 5,\n",
       " 6,\n",
       " 65,\n",
       " 345,\n",
       " 43,\n",
       " 4,\n",
       " 456,\n",
       " 76,\n",
       " 45,\n",
       " 435,\n",
       " 3,\n",
       " 34,\n",
       " 5,\n",
       " 6,\n",
       " 65,\n",
       " 345,\n",
       " 43,\n",
       " 4,\n",
       " 456,\n",
       " 76,\n",
       " 45,\n",
       " 435,\n",
       " 3]"
      ]
     },
     "execution_count": 36,
     "metadata": {},
     "output_type": "execute_result"
    }
   ],
   "source": [
    "lst5*5"
   ]
  }
 ],
 "metadata": {
  "kernelspec": {
   "display_name": "Python 3",
   "language": "python",
   "name": "python3"
  },
  "language_info": {
   "codemirror_mode": {
    "name": "ipython",
    "version": 3
   },
   "file_extension": ".py",
   "mimetype": "text/x-python",
   "name": "python",
   "nbconvert_exporter": "python",
   "pygments_lexer": "ipython3",
   "version": "3.12.6"
  }
 },
 "nbformat": 4,
 "nbformat_minor": 2
}
